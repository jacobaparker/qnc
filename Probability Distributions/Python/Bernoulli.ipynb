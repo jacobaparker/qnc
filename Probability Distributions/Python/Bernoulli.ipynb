{
  "cells": [
    {
      "cell_type": "markdown",
      "metadata": {
        "id": "view-in-github",
        "colab_type": "text"
      },
      "source": [
        "<a href=\"https://colab.research.google.com/github/jacobaparker/qnc/blob/main/Probability%20Distributions/Python/Bernoulli.ipynb\" target=\"_parent\"><img src=\"https://colab.research.google.com/assets/colab-badge.svg\" alt=\"Open In Colab\"/></a>"
      ]
    },
    {
      "cell_type": "markdown",
      "metadata": {
        "id": "wNBWTAdYMHnE"
      },
      "source": [
        "[![Open In Colab](https://colab.research.google.com/assets/colab-badge.svg)](https://colab.research.google.com/github/PennNGG/Quantitative-Neuroscience/blob/master/Probability%20Distributions/Python/Bernoulli.ipynb)"
      ]
    },
    {
      "cell_type": "markdown",
      "metadata": {
        "id": "vqYzGs3gv6mx"
      },
      "source": [
        "# Definition"
      ]
    },
    {
      "cell_type": "markdown",
      "metadata": {
        "id": "yTbz-Zu2v9Kx"
      },
      "source": [
        "The Bernoulli distribution is a discrete probability distribution that describes the probability of obtaining each of just two possible outcomes, a \"success\" with probability p and a \"failure\" with probability *q* = 1 – *p*. A Bernoulli trial describes a single experiment with binary outcomes described by a Bernoulli distribution, in which the probabilities of success and failure are fixed. An example of a Bernoulli trial is a coin flip, with *p* = *q* = 0.5.\n",
        "\n",
        "The Bernoulli distribution is a special case of the binomial distribution with *n* = 1. Thus, the probability of obtaining *k* successes in 1 trial given a constant probability of success *p* is:\n",
        "\n",
        "[1]  $P(X=k\\: successes)=p^{k}(1-p)^{1-k}, \\textrm{for}\\: k\\in \\left \\{0, 1  \\right \\}$"
      ]
    },
    {
      "cell_type": "markdown",
      "metadata": {
        "id": "bkVu6eGKIIiQ"
      },
      "source": [
        "# Getting Started with Code"
      ]
    },
    {
      "cell_type": "markdown",
      "metadata": {
        "id": "SozwC5hjA3gc"
      },
      "source": [
        "Matlab code is found in the [NGG Statistics GitHub Repository](https://github.com/PennNGG/Statistics.git) under \"Probability Distributions/Bernoulli.m\".\n",
        "\n",
        "Python code is included below. First run the code cell just below to make sure all of the required Python modules are loaded, then you can run the other cell(s)."
      ]
    },
    {
      "cell_type": "code",
      "execution_count": 2,
      "metadata": {
        "id": "W633IbbRIdwa"
      },
      "outputs": [],
      "source": [
        "import random as rnd\n",
        "from scipy.stats import bernoulli"
      ]
    },
    {
      "cell_type": "markdown",
      "metadata": {
        "id": "g8sX9WcH4mCr"
      },
      "source": [
        "# Tutorial\n"
      ]
    },
    {
      "cell_type": "markdown",
      "metadata": {
        "id": "Lg-r1mKpNj1k"
      },
      "source": [
        "Execute the cell below to simulate a bernoulli process in several different ways"
      ]
    },
    {
      "cell_type": "code",
      "execution_count": 3,
      "metadata": {
        "colab": {
          "base_uri": "https://localhost:8080/"
        },
        "id": "17ukeC9jwnYp",
        "outputId": "e9635fd9-952d-4885-dec1-8f41e7c60312"
      },
      "outputs": [
        {
          "output_type": "stream",
          "name": "stdout",
          "text": [
            "outcome using rand = True\n",
            "outcome using binornd = True\n",
            "2924 zeros, 7076 ones, simulated p = 0.7076, empirical p = 0.7\n"
          ]
        }
      ],
      "source": [
        "# In Python we can use random, which produces a random variable on the interval \n",
        "#   [0,1), which means that all values are greater than or equal to 0 and less \n",
        "#   than 1. This function is park of the \"random\" package imported above as \"rnd\".\n",
        "p = 0.7 # choose value for p\n",
        "single_outcome_method_1 = rnd.random() < p # create logical variable from single pick\n",
        "print(f\"outcome using rand = {single_outcome_method_1}\") # print the result\n",
        "\n",
        "# Or, equivalently, use bernoulli, which is a function in scipy.stats that \n",
        "#   generates a random pick from a Bernoulli distribution.\n",
        "# Choose value for p\n",
        "p = 0.7  \n",
        "# Generate a single sample using the rvs (\"random variates\") method. \n",
        "#   To generate >1 sample, use the size argument\n",
        "single_outcome_method_2 = bernoulli.rvs(p, size=1) \n",
        "# Print the output\n",
        "print(f'outcome using binornd = {bool(single_outcome_method_2)}')\n",
        "\n",
        "# Now generate lots of Bernoulli trials to check if it is converging on the \n",
        "#   appropriate probability\n",
        "# Choose value for p\n",
        "p = 0.7  \n",
        "# Number of Bernoulli trials to simulate\n",
        "N = 10000\n",
        "# Use the size argument to generate outcomes (an ndarray) from lot of trials\n",
        "outcomes = bernoulli.rvs(p, size=N) \n",
        "type(outcomes)\n",
        "print(f'{(outcomes == False).sum()} zeros, {(outcomes == True).sum()} ones, simulated p = {(outcomes == True).sum()/outcomes.size}, empirical p = {p}')"
      ]
    },
    {
      "cell_type": "markdown",
      "metadata": {
        "id": "KV-wjtiHwPfI"
      },
      "source": [
        "# Neuroscience Examples"
      ]
    },
    {
      "cell_type": "markdown",
      "metadata": {
        "id": "pZCojaWpwS-4"
      },
      "source": [
        "1. A bedrock of [psychophysics](https://www.sciencedirect.com/science/article/pii/S0306452214004369) – the quantitative study of behavior, particularly as it relates to perception – is the use of tasks that require binary outcomes (e.g., yes/no responses). For these experiments, each trial that uses the same task configuration represents a Bernoulli trial. A [psychometric function](https://link.springer.com/article/10.3758%2FBF03194552) describes the (typically sigmoid-shaped) relationship between the probability of success (*p*) associated with the Bernoulli distribution for each task condition and the value of the systematically varied independent variable (e.g., stimulus strength for a detection task). A good overview of the kinds of binary choice trials used in psychophysical tasks is in Box 1 of [this paper](https://www.frontiersin.org/articles/10.3389/fnins.2011.00125/full).\n",
        "\n",
        "2. Neural spiking is considered an all-or-nothing phenomenon. Thus, at any given instant of time, you can think of the spiking output of a neuron as the outcome of a Bernoulli trial: a success (spike) or failure (no spike). However, we rarely, if ever, care about whether or not a spike occurred at just a single moment. Instead, we are concerned with longer intervals, which are better analyzed using binomial and Poisson distributions, as detailed [here](http://www.cns.nyu.edu/~david/handouts/poisson.pdf)."
      ]
    },
    {
      "cell_type": "markdown",
      "source": [
        "# A crude simulation of a psychometric function through several Bernoulli distributions\n",
        "\n",
        "Based on Figure 1a of [this paper](https://www.frontiersin.org/articles/10.3389/fnins.2011.00125/full)"
      ],
      "metadata": {
        "id": "AeBXp5kUZP0V"
      }
    },
    {
      "cell_type": "code",
      "source": [
        "import matplotlib.pyplot as plt\n",
        "\n",
        "# ground truth p values\n",
        "p_vals = [0.01, 0.1, 0.25, 0.7, 0.99, 0.999]\n",
        "\n",
        "# stimulus intensity values corresponding to pvals\n",
        "I = range(150,210,10)\n",
        "\n",
        "#pretend we only do 10 trials at each stimulus intensity, reflecting the kinds\n",
        "#of constraints we might be dealing with when performing experiments\n",
        "N = 10\n",
        "\n",
        "# p values measured empirically\n",
        "p_emp = [(bernoulli.rvs(p, size=N) == True).sum()/N for p in p_vals]\n",
        "\n",
        "fig, ax = plt.subplots()\n",
        "ax.plot(I,p_emp)\n",
        "ax.set_xlabel('Stimulus Intensity (au)')\n",
        "ax.set_ylabel('Proportion Detected')"
      ],
      "metadata": {
        "id": "q8W84B-GZe6z",
        "outputId": "7fa9180a-aa17-4be1-d6eb-b79ef5412942",
        "colab": {
          "base_uri": "https://localhost:8080/",
          "height": 296
        }
      },
      "execution_count": 11,
      "outputs": [
        {
          "output_type": "execute_result",
          "data": {
            "text/plain": [
              "Text(0, 0.5, 'Proportion Detected')"
            ]
          },
          "metadata": {},
          "execution_count": 11
        },
        {
          "output_type": "display_data",
          "data": {
            "text/plain": [
              "<Figure size 432x288 with 1 Axes>"
            ],
            "image/png": "[encoded data removed]"
          },
          "metadata": {
            "needs_background": "light"
          }
        }
      ]
    },
    {
      "cell_type": "markdown",
      "metadata": {
        "id": "MfX1DWwPPfGW"
      },
      "source": [
        "# Additional Resources\n",
        "\n",
        "Working with the Bernoulli distribution in [Matlab](https://www.mathworks.com/help/stats/bernoulli-distribution.html), [R](https://www.rdocumentation.org/packages/Rlab/versions/2.15.1/topics/Bernoulli), and [Python](https://docs.scipy.org/doc/scipy/reference/generated/scipy.stats.bernoulli.html)."
      ]
    },
    {
      "cell_type": "markdown",
      "metadata": {
        "id": "kO-JB1JYgo5m"
      },
      "source": [
        "# Credits\n",
        "\n",
        "Copyright 2021 by Joshua I. Gold, University of Pennsylvania"
      ]
    }
  ],
  "metadata": {
    "colab": {
      "collapsed_sections": [
        "vqYzGs3gv6mx",
        "bkVu6eGKIIiQ"
      ],
      "name": "Bernoulli Distribution",
      "provenance": [],
      "toc_visible": true,
      "include_colab_link": true
    },
    "kernelspec": {
      "display_name": "Python 3",
      "name": "python3"
    },
    "language_info": {
      "codemirror_mode": {
        "name": "ipython",
        "version": 3
      },
      "file_extension": ".py",
      "mimetype": "text/x-python",
      "name": "python",
      "nbconvert_exporter": "python",
      "pygments_lexer": "ipython3",
      "version": "3.9.6"
    }
  },
  "nbformat": 4,
  "nbformat_minor": 0
}