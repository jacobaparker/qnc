{
  "cells": [
    {
      "cell_type": "markdown",
      "metadata": {
        "id": "view-in-github",
        "colab_type": "text"
      },
      "source": [
        "<a href=\"https://colab.research.google.com/github/jacobaparker/qnc/blob/main/Parametric%20Correlation%20Coefficient.ipynb\" target=\"_parent\"><img src=\"https://colab.research.google.com/assets/colab-badge.svg\" alt=\"Open In Colab\"/></a>"
      ]
    },
    {
      "cell_type": "markdown",
      "metadata": {
        "id": "pKIiY6p3GRFq"
      },
      "source": [
        "# Definitions"
      ]
    },
    {
      "cell_type": "markdown",
      "metadata": {
        "id": "x7VmLUr5GTNw"
      },
      "source": [
        "Correlation is a measure of association between measured (random) variables. The Pearson's correlation coefficient quantifies the strength of this association on a simple scale: it varies between -1 and 1. The larger the absolute value of this correlation coefficient, the tighter the correlation and more predictive it is. The smaller the absolute value, the weaker the correlation and less predictive. Positive values imply a positive correlation: as I eat more ice cream, my weight goes up. Negative values imply a negative correlation: as I eat more ice cream, my weight goes down (wouldn't that be great!). \n",
        "\n",
        "The Pearson's correlation coefficient is called parametric because it assumes a parametric form of the distributions of the two random variables, $X$ and $Y$; specifically, that both variables are [normally distributed](https://colab.research.google.com/drive/1-KxH3FCq5rDyyO33HXxewIv-kKldkINi?usp=sharing)."
      ]
    },
    {
      "cell_type": "markdown",
      "metadata": {
        "id": "IyCyVIIDH0rb"
      },
      "source": [
        "# Computing for a population"
      ]
    },
    {
      "cell_type": "markdown",
      "metadata": {
        "id": "sYDtxlCZH5BC"
      },
      "source": [
        "When you have full knowledge of the joint distribution of $𝑋$ and $Y$ (e.g., when working with an idealized model, not with real, finite data sets), the Pearson's correlation coefficient is typically denoted as $\\rho$ and computed in terms of the covariance between the two variables, normalized by the product of their individual standard deviations:\n",
        "\n",
        "$\\quad\\rho_{X,Y}=\\frac{cov(X,Y)}{\\sigma_x\\sigma_y}$\n",
        "\n",
        "where\n",
        "\n",
        "$\\quad cov(X,Y)=E\\left [ (X-\\mu_X)(Y-\\mu_Y)\\right ]$\n",
        "\n",
        "in which $\\mu_X$ and $\\mu_Y$ are the means of $X$ and $Y$, respectively, and $E\\left[\\right]$ denotes expected value."
      ]
    },
    {
      "cell_type": "markdown",
      "metadata": {
        "id": "xDpz-ktIJGhf"
      },
      "source": [
        "# Computing for a sample"
      ]
    },
    {
      "cell_type": "markdown",
      "metadata": {
        "id": "c-qA27fbJM6k"
      },
      "source": [
        "When working with real data, you have a [sample, not a population](https://colab.research.google.com/drive/1SnVM1MPaFvMSjlDLyihgeZ25OAk-k4Nk?usp=sharing), and thus need to compute the correlation coefficient (typically denoted as *r*) using sample statistics."
      ]
    },
    {
      "cell_type": "markdown",
      "metadata": {
        "id": "9LJSqIDXJZ4f"
      },
      "source": [
        "## Sample Pearson's correlation coefficient"
      ]
    },
    {
      "cell_type": "markdown",
      "metadata": {
        "id": "Ytr0p-0MJcld"
      },
      "source": [
        "$\\quad r_{X,Y}=\\frac{\\sum^n_{i-1}{(x_i-\\bar{x})(y_i-\\bar{y})}}{\\sqrt{\\sum^n_{i-1}{(x_i-\\bar{x})^2}}\\sqrt{\\sum^n_{i-1}{(y_i-\\bar{y})^2}}}$\n",
        "\n",
        "where\n",
        "\n",
        "$\\quad \\bar{x}=\\frac{1}{n}\\sum^n_{i=1}{x_i,\\bar{y}}=\\frac{1}{n}\\sum^n_{i=1}{y_i}$\n",
        "\n",
        "are the sample means."
      ]
    },
    {
      "cell_type": "markdown",
      "metadata": {
        "id": "F2at-qokKj34"
      },
      "source": [
        "## Coefficient of determination"
      ]
    },
    {
      "cell_type": "markdown",
      "metadata": {
        "id": "KHOpKncgKoJP"
      },
      "source": [
        "It is possible to compute $r_{X,Y}$ not just when $X$ and $Y$ are two random variables, but also when one is a random (dependent) variable (typically $Y$) and the other is an independent or explanatory variable (typically $X$). In this case, the square of the correlation coefficient ($r^2$) quantifies the total variation in one variable ($Y$) that is explained by the regression line with respect to the other variable ($X$). This quantity is called the **coefficient of determination** and is often referred to as the fraction of explained variance"
      ]
    },
    {
      "cell_type": "markdown",
      "metadata": {
        "id": "dRpX2JmfLAo7"
      },
      "source": [
        "## Standard error of the sample Pearson's correlation coefficient"
      ]
    },
    {
      "cell_type": "markdown",
      "metadata": {
        "id": "WAWhhqGfLDrG"
      },
      "source": [
        "The standard error of the sample *r* is computed by assuming that r follows a [Student's t distribution](https://colab.research.google.com/drive/1Q_Du5NK71Rc1qu-byh8dy8Fs39uvR_4n?usp=sharing) with two degrees of freedom (because of the two variables):\n",
        "\n",
        "$\\quad s_r=\\sqrt{\\frac{1-r^2}{n-2}}$\n",
        "\n",
        "Note that \"standard error\" refers in general to the standard deviation of a statistical estimate, which here is *r*. It is not the same thing as the \"standard error of the mean\", which refers to the standard deviation of a statistical estimate of a mean."
      ]
    },
    {
      "cell_type": "markdown",
      "metadata": {
        "id": "4yGAhXVULi3C"
      },
      "source": [
        "## Confidence intervals for the sample Pearson's correlation coefficient"
      ]
    },
    {
      "cell_type": "markdown",
      "metadata": {
        "id": "-YIP1v0vLla_"
      },
      "source": [
        "This is a bit tricker to compute, because r is not normally distributed, particularly around the extreme values (e.g., around 1, the distribution cannot go higher than one but can take many values <1). We therefore need to do the following (a good explanation is [here](http://faculty.washington.edu/gloftus/P317-318/Useful_Information/r_to_z/PearsonrCIs.pdf)):\n",
        "\n",
        "1\\. Take the Fisher's z-transformation of r:\n",
        "\n",
        "$\\quad z=0.5\\times ln(\\frac{1+r}{1-r})$\n",
        "\n",
        "2\\. Compute its standard deviation as:\n",
        "\n",
        "$\\quad s_z=\\sqrt{\\frac{1}{n-3}}$\n",
        "\n",
        "3\\. Compute confidence intervals in this z-space as we have shown [here](https://colab.research.google.com/drive/1rdJMusMZDTaM9OGsyt27tCVkSasmRj2O?usp=sharing), as: \n",
        "\n",
        "$\\quad z \\pm (z\\:criterion) \\times s_z$\n",
        "\n",
        "where the *z* criterion is determined from the desired confidence value using a [z-score calculator](http://www.z-table.com) or [norminv](https://www.mathworks.com/help/stats/norminv.html) in Matlab.\n",
        "\n",
        "4\\. Then translate each *z* value back to *r* as:\n",
        "\n",
        "$\\quad r=\\frac{e^{2z}-1}{e^{2z}+1}$\n"
      ]
    },
    {
      "cell_type": "markdown",
      "metadata": {
        "id": "ELEb_vqYQGdK"
      },
      "source": [
        "## Hypothesis testing on the sample Pearson's correlation coefficient"
      ]
    },
    {
      "cell_type": "markdown",
      "metadata": {
        "id": "5VSSh3pMQIJf"
      },
      "source": [
        "For $H_0: r=0$. Here we are considering a null distribution that is centered at *r*=0. In this case, we know that the distribution of *r* around that mean is symmetric, and the sample mean follows follows a [Student's *t* distribution](https://colab.research.google.com/drive/1Q_Du5NK71Rc1qu-byh8dy8Fs39uvR_4n?usp=sharing).  Therefore, our test statistic is simply the *t* statistic, which we compute as the residual (with respect to zero) of *r* divided by its standard error:\n",
        "\n",
        "$\\quad t=\\frac{r}{s_r}$\n",
        "\n",
        "with $n-2$ degrees of freedom.\n",
        "\n",
        "For $H_0: r=r_s,\\:where\\:r_s\\ne 0$. Here we are considering null distributions that are not centered at $r=0$ and therefore are not symmetric and do not follow a *t* distribution. We therefore first compute the *z* transformation of $r$ and $r_s$, as above. Now our test statistic is:\n",
        "\n",
        "$\\quad \\lambda =\\frac{z_r-z_{rs}}{\\sqrt{\\frac{1}{n-3}}}$\n",
        "\n",
        "with $n-2$ degrees of freedom.\n",
        "\n"
      ]
    },
    {
      "cell_type": "markdown",
      "metadata": {
        "id": "nvmWeSSHSF95"
      },
      "source": [
        "# Exercises"
      ]
    },
    {
      "cell_type": "markdown",
      "metadata": {
        "id": "bki88QRVSaj8"
      },
      "source": [
        "Let's examine the relationship between these two measured variables:\n",
        "\n",
        "Wing length | Tail length\n",
        "--- | ---\n",
        "10.4 | 7.4\n",
        "10.8 | 7.6\n",
        "11.1 | 7.9\n",
        "10.2 | 7.2\n",
        "10.3 | 7.4\n",
        "10.2 | 7.1\n",
        "10.7 | 7.4\n",
        "10.5 | 7.2\n",
        "10.8 | 7.8\n",
        "11.2 | 7.7\n",
        "10.6 | 7.8\n",
        "11.4 | 8.3\n",
        "\n",
        "Assume Wing length is the $X$ variable and Tail Length is the $Y$ variable, both measured in cm.\n",
        "\n",
        "Answers to the questions below will be found [here](https://github.com/PennNGG/Quantitative-Neuroscience/tree/master/Answers%20to%20Exercises/Python) after the due date."
      ]
    },
    {
      "cell_type": "markdown",
      "metadata": {
        "id": "zIfgeegzTlJl"
      },
      "source": [
        "##### 1\\. Plot X vs Y. Do they look related?"
      ]
    },
    {
      "cell_type": "code",
      "source": [
        "import numpy as np\n",
        "import matplotlib.pyplot as plt\n",
        "\n",
        "wlen = np.array([10.4, 10.8, 11.1, 10.2, 10.3, 10.2, 10.7, 10.5, 10.8, 11.2, 10.6, 11.4])\n",
        "tlen = np.array([7.4, 7.6, 7.9, 7.2, 7.4, 7.1, 7.4, 7.2, 7.8, 7.7, 7.8, 8.3])\n",
        "\n",
        "fig, ax = plt.subplots(1,1)\n",
        "ax.scatter(wlen, tlen)\n",
        "ax.set_xlabel('Wing Length')\n",
        "ax.set_ylabel('Tail Length')"
      ],
      "metadata": {
        "id": "lCeCu8qT92o-",
        "outputId": "26e14cb9-ce4b-46a8-ee9f-381f9386ae91",
        "colab": {
          "base_uri": "https://localhost:8080/",
          "height": 296
        }
      },
      "execution_count": 2,
      "outputs": [
        {
          "output_type": "execute_result",
          "data": {
            "text/plain": [
              "Text(0, 0.5, 'Tail Length')"
            ]
          },
          "metadata": {},
          "execution_count": 2
        },
        {
          "output_type": "display_data",
          "data": {
            "text/plain": [
              "<Figure size 432x288 with 1 Axes>"
            ],
            "image/png": "[encoded data removed]"
          },
          "metadata": {
            "needs_background": "light"
          }
        }
      ]
    },
    {
      "cell_type": "markdown",
      "source": [
        "Yes, they look related."
      ],
      "metadata": {
        "id": "Gmf8Cc_t-oIX"
      }
    },
    {
      "cell_type": "markdown",
      "metadata": {
        "id": "v4ihoOv0TzTk"
      },
      "source": [
        "##### 2\\. Calculate $r_{X,Y}$ and $r_{Y,X}$, first using the equations above and then using either the Python numpy funciton [corrcoef](https://numpy.org/doc/stable/reference/generated/numpy.corrcoef.html) or Matlab's built-in [corrcoef](https://www.mathworks.com/help/matlab/ref/corrcoef.html). Did you get the same answers?"
      ]
    },
    {
      "cell_type": "code",
      "source": [
        "rxy = np.corrcoef(wlen, tlen)\n",
        "rxy = rxy[0,1]\n",
        "ryx = np.corrcoef(tlen, wlen)\n",
        "ryx = ryx[0,1]\n",
        "print(f'r(X,Y) = {rxy:.{3}}')\n",
        "print(f'r(Y,X) = {ryx:.{3}}')"
      ],
      "metadata": {
        "id": "ZR1NzzEL-mg6",
        "outputId": "a8f1d942-dfc0-4a27-9a71-1f05258b41de",
        "colab": {
          "base_uri": "https://localhost:8080/"
        }
      },
      "execution_count": 10,
      "outputs": [
        {
          "output_type": "stream",
          "name": "stdout",
          "text": [
            "r(X,Y) = 0.87\n",
            "r(Y,X) = 0.87\n"
          ]
        }
      ]
    },
    {
      "cell_type": "markdown",
      "source": [
        "That looks the same to me."
      ],
      "metadata": {
        "id": "8An_jzyw_RSQ"
      }
    },
    {
      "cell_type": "markdown",
      "metadata": {
        "id": "XqoZSFdZU5zg"
      },
      "source": [
        "##### 3\\. What is the standard error of $r_{X,Y}$? The 95% confidence intervals computed from the standard error?"
      ]
    },
    {
      "cell_type": "code",
      "source": [
        "import math\n",
        "n = len(wlen)\n",
        "sr = math.sqrt((1-rxy**2)/(n-2))\n",
        "ci95 = [np.tanh(np.arctanh(rxy)-1.96*math.sqrt(1/(n-3))), np.tanh(np.arctanh(rxy)+1.96*math.sqrt(1/(n-3)))]\n",
        "\n",
        "print(f's(r(X,Y)) = {sr:.{3}}')\n",
        "print(f'95% CI = [{ci95[0]:.{3}}, {ci95[1]:.{3}}]')"
      ],
      "metadata": {
        "id": "ZXffsdg2_Una",
        "outputId": "6cccee33-aab0-48f6-8b47-c92737d07c21",
        "colab": {
          "base_uri": "https://localhost:8080/"
        }
      },
      "execution_count": 12,
      "outputs": [
        {
          "output_type": "stream",
          "name": "stdout",
          "text": [
            "s(r(X,Y)) = 0.156\n",
            "95% CI = [0.592, 0.963]\n"
          ]
        }
      ]
    },
    {
      "cell_type": "markdown",
      "metadata": {
        "id": "sU0UjR6uVMl2"
      },
      "source": [
        "##### 4\\. Should the value of $r_{X,Y}$ be considered significant at the *p*<0.05 level, given a two-tailed test (i.e., we reject if the test statistic is too large on either tail of the null distribution) for $H_0: r_{X,Y}=0$?"
      ]
    },
    {
      "cell_type": "markdown",
      "source": [
        "Yes, $r_{X,Y} = 0$ falls outside of the 95% confidence interval."
      ],
      "metadata": {
        "id": "g_JYkPTkDu6X"
      }
    },
    {
      "cell_type": "markdown",
      "metadata": {
        "id": "mywqPzz3Vg0I"
      },
      "source": [
        "##### 5\\. Yale does the exact same study and finds that his correlation value is 0.75. Is this the same as yours? That is, evaluate $𝐻_0: r=0.75$."
      ]
    },
    {
      "cell_type": "markdown",
      "source": [
        "We cannot reject the hypothesis that Yale's correlation is different from ours, since $r_{X,Y} = 0.75$ falls within our 95% confidence interval."
      ],
      "metadata": {
        "id": "ujpU70uxEKyB"
      }
    },
    {
      "cell_type": "markdown",
      "metadata": {
        "id": "qYW4bBQ7Vxa-"
      },
      "source": [
        "##### 6\\. Finally, calculate the statistical power and sample size needed to reject $H_0:r=0\\:when\\:r\\ge 0.5$."
      ]
    },
    {
      "cell_type": "code",
      "source": [
        "n = 1/(((np.arctanh(0)-np.arctanh(0.5))/(-1.96))**2)+3\n",
        "print(f'Sample size needed: {round(n)}')"
      ],
      "metadata": {
        "id": "ZB0mfMJeExBD",
        "outputId": "ad01cc46-1725-46bc-c216-885dd87c7728",
        "colab": {
          "base_uri": "https://localhost:8080/"
        }
      },
      "execution_count": 15,
      "outputs": [
        {
          "output_type": "stream",
          "name": "stdout",
          "text": [
            "Sample size needed: 16\n"
          ]
        }
      ]
    },
    {
      "cell_type": "markdown",
      "source": [
        "The statistical power depends on the effect size ($r$ in this case) and the sample size. Theoretically, there is no value of statistical power \"needed\" to reject the null hypothesis - the power just tells us the chance that the null hypothesis will be rejected given the effect size and sample size. In other words, the null could be rejected even when the power is low (e.g. 0.1)."
      ],
      "metadata": {
        "id": "6NBl15wLGpfS"
      }
    },
    {
      "cell_type": "markdown",
      "metadata": {
        "id": "UqoNXyuxP-go"
      },
      "source": [
        "# Additional Resources\n"
      ]
    },
    {
      "cell_type": "markdown",
      "metadata": {
        "id": "clnBO4FU28El"
      },
      "source": [
        "- Differences between correlation and regression are discussed [here](https://www.bmj.com/about-bmj/resources-readers/publications/statistics-square-one/11-correlation-and-regression) and [here](http://www.biostathandbook.com/linearregression.html).\n",
        "\n",
        "- A reference on [how to choose the appropriate measure of association](https://journals.sagepub.com/doi/pdf/10.1177/8756479308317006) (Khamis 2008)."
      ]
    },
    {
      "cell_type": "markdown",
      "metadata": {
        "id": "tteEm2Qlgbb3"
      },
      "source": [
        "# Credits\n",
        "\n",
        "Copyright 2021 by Joshua I. Gold, University of Pennsylvania"
      ]
    }
  ],
  "metadata": {
    "colab": {
      "collapsed_sections": [
        "IyCyVIIDH0rb",
        "xDpz-ktIJGhf",
        "ELEb_vqYQGdK",
        "NUeNn8deHBch",
        "nvmWeSSHSF95",
        "zIfgeegzTlJl",
        "v4ihoOv0TzTk",
        "XqoZSFdZU5zg",
        "sU0UjR6uVMl2",
        "mywqPzz3Vg0I",
        "qYW4bBQ7Vxa-"
      ],
      "name": "Parametric Correlation Coefficient",
      "provenance": [],
      "include_colab_link": true
    },
    "kernelspec": {
      "display_name": "Python 3",
      "name": "python3"
    },
    "language_info": {
      "name": "python"
    }
  },
  "nbformat": 4,
  "nbformat_minor": 0
}