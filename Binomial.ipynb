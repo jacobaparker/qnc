{
  "cells": [
    {
      "cell_type": "markdown",
      "metadata": {
        "id": "view-in-github",
        "colab_type": "text"
      },
      "source": [
        "<a href=\"https://colab.research.google.com/github/jacobaparker/qnc/blob/main/Probability%20Distributions/Python/Binomial.ipynb\" target=\"_parent\"><img src=\"https://colab.research.google.com/assets/colab-badge.svg\" alt=\"Open In Colab\"/></a>"
      ]
    },
    {
      "cell_type": "markdown",
      "metadata": {
        "id": "MvS2AnE1gCbX"
      },
      "source": [
        "[![Open In Colab](https://colab.research.google.com/assets/colab-badge.svg)](https://colab.research.google.com/github/PennNGG/Quantitative-Neuroscience/blob/master/Probability%20Distributions/Python/Binomial.ipynb)"
      ]
    },
    {
      "cell_type": "markdown",
      "metadata": {
        "id": "pKIiY6p3GRFq"
      },
      "source": [
        "# Definition"
      ]
    },
    {
      "cell_type": "markdown",
      "metadata": {
        "id": "x7VmLUr5GTNw"
      },
      "source": [
        "The binomial distribution is a discrete probability distribution that describes the probability of obtaining exactly k successes out of n Bernoulli trials, which are individual binary outcomes that each have a success probability of p. For example, if you flip a coin 10 times, what is the probability that it will come up heads 0, 1, 2, ... 10 times?\n",
        "\n",
        "Mathematically, this distribution defines the probability of obtaining *k* successes in *n* trials given a constant probability of success *p* on each trial, which is defined as:\n",
        "\n",
        "[1] $P(X=k\\: successes)=\\left ( \\frac{n}{k} \\right )p^{k}\\left ( 1-p \\right )^{n-k}$\n",
        "\n",
        "for *k* = 0, 1, 2, ... , *n*, and where\n",
        "\n",
        "$\\left ( \\frac{n}{k} \\right )=\\frac{n!}{k!\\left ( n-k \\right )!}$\n",
        "\n",
        " is called the \"binomial coefficient\" and is pronounced \"[n-choose-k](https://www.hackmath.net/en/calculator/n-choose-k)\""
      ]
    },
    {
      "cell_type": "markdown",
      "metadata": {
        "id": "bkVu6eGKIIiQ"
      },
      "source": [
        "# Getting Started with Code\n"
      ]
    },
    {
      "cell_type": "markdown",
      "metadata": {
        "id": "gxusMZ-UN_6m"
      },
      "source": [
        "Matlab code is found in the [NGG Statistics GitHub Repository](https://github.com/PennNGG/Statistics.git) under \"Probability Distributions/Binomial.m\".\n",
        "\n",
        "Python code is included below. First run the code cell just below to make sure all of the required Python modules are loaded, then you can run the other cell(s)."
      ]
    },
    {
      "cell_type": "code",
      "execution_count": 1,
      "metadata": {
        "id": "W633IbbRIdwa"
      },
      "outputs": [],
      "source": [
        "import numpy as np\n",
        "import random as rnd\n",
        "import collections\n",
        "import matplotlib.pyplot as plt\n",
        "import time\n",
        "import scipy.stats as st\n",
        "\n",
        "from scipy.stats import bernoulli, binom, poisson, chi2\n",
        "from IPython.display import clear_output\n",
        "from operator import itemgetter\n",
        "from statsmodels.stats import proportion\n",
        "\n",
        "from numpy import matlib"
      ]
    },
    {
      "cell_type": "markdown",
      "metadata": {
        "id": "u3yXPCmMH2CH"
      },
      "source": [
        "# Tutorial"
      ]
    },
    {
      "cell_type": "code",
      "execution_count": 2,
      "metadata": {
        "colab": {
          "base_uri": "https://localhost:8080/"
        },
        "id": "4ESB1xpmItGp",
        "outputId": "c51eaa3e-e01a-4fa6-c01d-315f2e711869"
      },
      "outputs": [
        {
          "output_type": "stream",
          "name": "stdout",
          "text": [
            "703 successes out of 1000 trials, simulated p = 0.7000, empirical p = 0.7030\n"
          ]
        }
      ],
      "source": [
        "# Choose some values for the parameters n and p\n",
        "p = 0.7\n",
        "n = 1000\n",
        "\n",
        "# Generate random picks. Note that this is as if we generated Bernoulli trials \n",
        "#   as above, but then just counted the successes in each \"experiment\"\n",
        "num_successes = binom.rvs(n,p) # uses the \"random variates\" method (rvs) of binom\n",
        "\n",
        "# Print out the results\n",
        "print(f'{num_successes} successes out of {n} trials, simulated p = {p:.4f}, empirical p = {num_successes/n:.4f}')"
      ]
    },
    {
      "cell_type": "code",
      "execution_count": 3,
      "metadata": {
        "colab": {
          "base_uri": "https://localhost:8080/",
          "height": 295
        },
        "id": "AWJMhBIZIuFU",
        "outputId": "65b895ad-9e83-43c1-f37a-ef5a51ce5632"
      },
      "outputs": [
        {
          "output_type": "display_data",
          "data": {
            "text/plain": [
              "<Figure size 432x288 with 2 Axes>"
            ],
            "image/png": "[encoded data removed]"
          },
          "metadata": {
            "needs_background": "light"
          }
        }
      ],
      "source": [
        "# The full probability distribution describes the probabilty of obtaining each \n",
        "#   possible number of successes (k), given n and p. If we set n=10, the the \n",
        "#   possible values of k are 0, 1, ..., 10. Now we use binom.rvs to simulate \n",
        "#   many different picks to get a full distribution\n",
        "p = 0.7\n",
        "n = 10                      # number of \"trials\" per \"experiment\"\n",
        "num_experiments = 1000;     # number of \"experiments\"\n",
        "outcomes = binom.rvs(n,p,size=num_experiments)\n",
        "\n",
        "# Show a bar plot (histogram) of all of the possible outcomes\n",
        "counts = collections.Counter(outcomes)\n",
        "plt.subplot(211)\n",
        "plt.bar(counts.keys(), counts.values())\n",
        "plt.xlim([-1, n+1])\n",
        "plt.title(f'Binomial distribution, n={n}, p={p:.2f}, {num_experiments} simulations')\n",
        "plt.ylabel('Count')\n",
        "\n",
        "# Show a normalized version that is a pdf. Here counts (the x-axis of the histogram) \n",
        "#   is a DISCRETE variable, so we just have to add up the values\n",
        "normalized_counts = {k: v / total for total in (sum(counts.values()),) for k, v in counts.items()}\n",
        "plt.subplot(212)\n",
        "plt.bar(normalized_counts.keys(), normalized_counts.values())\n",
        "plt.xlim([-1, n+1])\n",
        "plt.xlabel(f'Probability of success in {n} tries')\n",
        "plt.ylabel('Probability')\n",
        "plt.subplots_adjust(hspace=0.3)"
      ]
    },
    {
      "cell_type": "code",
      "execution_count": 4,
      "metadata": {
        "colab": {
          "base_uri": "https://localhost:8080/",
          "height": 295
        },
        "id": "XxTbmZOSJEl8",
        "outputId": "3fbf5f62-0bf6-4f9c-ad1e-c2950f266d83"
      },
      "outputs": [
        {
          "output_type": "display_data",
          "data": {
            "text/plain": [
              "<Figure size 432x288 with 1 Axes>"
            ],
            "image/png": "[encoded data removed]"
          },
          "metadata": {
            "needs_background": "light"
          }
        }
      ],
      "source": [
        "# Now let's make a fun animation showing different values of p and N. \n",
        "#   Note that, of course, the more picks you make of the random variable \n",
        "#   (higher N), the more closely the outcomes (the \"samples\") match the true \n",
        "#   distribution.\n",
        "n=10\n",
        "xs = range(0, n)\n",
        "f = plt.figure()\n",
        "for p in np.arange(0, 1, 0.1):\n",
        "    for N in np.round(np.logspace(1,5,10)):\n",
        "\n",
        "        # Get the true binomial pdf\n",
        "        Y = binom.pmf(xs,n,p)\n",
        "\n",
        "        # Get the random picks, make histogram and normalize\n",
        "        counts = collections.Counter(binom.rvs(n,p,size=int(N)))\n",
        "        normalized_counts = {k: v / total for total in (sum(counts.values()),) for k, v in counts.items()}\n",
        "\n",
        "        # Show both\n",
        "        plt.bar(normalized_counts.keys(), normalized_counts.values())\n",
        "        plt.plot(xs, Y, 'ro-', linewidth=2, markersize=10)\n",
        "        \n",
        "        # Labels, etc\n",
        "        plt.title(f'p={p:.1f}, n={n}, N={N:.2f}')\n",
        "        plt.xlabel(f'Number of successes in {n} tries')\n",
        "        plt.ylabel('Probability')\n",
        "        plt.axis([-1, n+1, 0, 0.45])\n",
        "        plt.legend(('Theoretical', 'Simulated'))\n",
        "        plt.show()\n",
        "\n",
        "        # Wait\n",
        "        time.sleep(0.1)\n",
        "\n",
        "        # Clear for next plot\n",
        "        clear_output(wait=True)\n",
        "\n"
      ]
    },
    {
      "cell_type": "code",
      "execution_count": 5,
      "metadata": {
        "colab": {
          "base_uri": "https://localhost:8080/",
          "height": 312
        },
        "id": "kUAJ6LCyJbRN",
        "outputId": "80ef0f5b-6915-425a-c3af-cec2716f3c93"
      },
      "outputs": [
        {
          "output_type": "execute_result",
          "data": {
            "text/plain": [
              "<matplotlib.legend.Legend at 0x7ffb2d817510>"
            ]
          },
          "metadata": {},
          "execution_count": 5
        },
        {
          "output_type": "display_data",
          "data": {
            "text/plain": [
              "<Figure size 432x288 with 1 Axes>"
            ],
            "image/png": "[encoded data removed]"
          },
          "metadata": {
            "needs_background": "light"
          }
        }
      ],
      "source": [
        "# The cumulative distribution function is just the proability of obtaining an \n",
        "#   outcome that is equal to OR LESS THAN a particular value.\n",
        "p = 0.7\n",
        "n = 10                      # number of \"trials\" per \"experiment\"\n",
        "num_experiments = 1000;     # number of \"experiments\"\n",
        "outcomes = binom.rvs(n,p,size=num_experiments)\n",
        "\n",
        "# Make histogram\n",
        "counts = collections.Counter(outcomes)\n",
        "\n",
        "# Unzip keys from values in a sorted order\n",
        "keys, values = zip(*sorted(counts.items(), key=itemgetter(0)))\n",
        "\n",
        "# Compute the cumulative sum of the counts normalized by the total counts (so \n",
        "#   it is a probability function and not just a histogram -- note that the final \n",
        "#   value in the cdf should equal 1 because every value should be equal to or \n",
        "#   less than that value).\n",
        "total = sum(values)\n",
        "cumulative_ps = [x/total for x in np.cumsum(values)]\n",
        "\n",
        "# Plot as a bar graph\n",
        "plt.bar(keys, cumulative_ps)\n",
        "\n",
        "# Compare it to the real binomial cumulative distribution, which we find \n",
        "#   using binom.cdf\n",
        "Y = binom.cdf(keys,n,p)\n",
        "plt.plot(keys, Y, 'ro-', linewidth=2, markersize=10)\n",
        "\n",
        "# Labels, etc\n",
        "plt.title(f'Cumulative binomial distribution, p={p:.1f}, n={n}, N={num_experiments}')\n",
        "plt.xlabel(f'Number of successes in {n} tries')\n",
        "plt.ylabel('Cumulative probability')\n",
        "plt.legend(('Theoretical', 'Simulated'))"
      ]
    },
    {
      "cell_type": "markdown",
      "metadata": {
        "id": "NPyYR5dgJ4Q9"
      },
      "source": [
        "# Neuroscience Example: Quantal Release"
      ]
    },
    {
      "cell_type": "markdown",
      "metadata": {
        "id": "Egvzk_qLKOYl"
      },
      "source": [
        "From: Johnson, E.W., and Wernig, A. (1971). [The binomial nature of transmitter release at the crayfish neuromuscular junction](https://www.ncbi.nlm.nih.gov/pmc/articles/PMC1331610/). J Physiol 218, 757-767. \n",
        "\n",
        "Classic studies by [Bernard Katz and colleagues](https://www.ncbi.nlm.nih.gov/pmc/articles/PMC2151334/) indicated that chemical neurotransmitters are released from presynaptic nerve terminals in discrete quanta, or packets, with a relatively constant release probability. A straightforward implication of this idea is that the release statistics (i.e., the distribution of the number of quanta that are actually released in response to a given event like an action potential reaching the presynaptic nerve terminal) should follow a binomial distribution. As stated by Johnson and Wernig:\n",
        "\n",
        "\"If the average probability of release is constant, then it follows from the hypothesis that the relative frequency of 0, 1, 2, 3, . . . quantal releases in a series of trials is given by the successive terms in the binomial expansion $(p + q)^n$, where *q*=1–*p* is the average probability that a quantum will not be released. In a given trial, the probability that *x* quanta will be released (*px*) is given by the binomial term\" [i.e., Eq. 1, above, but substitute *x* for *k*].\n",
        "\n",
        "In other words, if there are *n* available quanta in a presynaptic terminal, and each is released with probability *p*, then the number of quanta that are actually released should follow a binomial distribution with parameters *n* and *p*.\n",
        "\n",
        "Answers to the exercises below will be found [here](https://github.com/PennNGG/Quantitative-Neuroscience/tree/master/Answers%20to%20Exercises/Python) after the due date."
      ]
    },
    {
      "cell_type": "markdown",
      "metadata": {
        "id": "VveIEEiyLUSk"
      },
      "source": [
        "## Exercise 1\n",
        "Assume that there are 10 quanta available in a nerve terminal, and for a given release event each is released with a probability of 0.2. For one such event, what is the probability that 0, 1, 2, 3, 4, 5, 6, 7, 8, 9, or 10 quanta will be released?"
      ]
    },
    {
      "cell_type": "code",
      "source": [
        "ps = binom.pmf(range(11),10,0.2)\n",
        "for i in range(11):\n",
        "  print(f'p({i}) = {ps[i]:.{3}}')"
      ],
      "metadata": {
        "colab": {
          "base_uri": "https://localhost:8080/"
        },
        "id": "SuKrq4jOfm4a",
        "outputId": "24a823ed-5392-464c-89d9-eabdbcbb84ca"
      },
      "execution_count": 6,
      "outputs": [
        {
          "output_type": "stream",
          "name": "stdout",
          "text": [
            "p(0) = 0.107\n",
            "p(1) = 0.268\n",
            "p(2) = 0.302\n",
            "p(3) = 0.201\n",
            "p(4) = 0.0881\n",
            "p(5) = 0.0264\n",
            "p(6) = 0.00551\n",
            "p(7) = 0.000786\n",
            "p(8) = 7.37e-05\n",
            "p(9) = 4.1e-06\n",
            "p(10) = 1.02e-07\n"
          ]
        }
      ]
    },
    {
      "cell_type": "markdown",
      "metadata": {
        "id": "eG7Kvl5pL4jf"
      },
      "source": [
        "## Exercise 2\n",
        "Let's say you know that a given nerve terminal contains exactly 14 quanta available for release. You have read in the literature that the release probability of these quanta is low, say 0.1. To assess whether this value is reasonable, you run a simple experiment: activate the nerve and measure the number of quanta that are released. The result is 8 quanta. What is the probability that you would get this result (8 quanta) if the true probability of release really was 0.1? What about if the true release probability was much higher; say, 0.7? What about for each decile of release probability (0.1, 0.2, ... 1.0)? Which value of release probability did you determine to be the most probable, given your measurement?\n",
        "\n",
        "Note: here you are computing a likelihood function: a function describing how the value of the conditional probability *p*(*data* | *parameters*) changes when you hold your data fixed to the value(s) you measured and vary the value(s) of the parameter(s) of, in this case, the binomial distribution. Because you are varying the parameters and not the data, the values of the function are not expected to sum to one (e.g., you can have numerous parameters that have a very high probability of producing the given data) and thus this function is not a probability distribution (see [here](https://www.psychologicalscience.org/observer/bayes-for-beginners-probability-and-likelihood) for an extended discussion). The maximum value of this function is called the maximum likelihood. "
      ]
    },
    {
      "cell_type": "code",
      "source": [
        "ps = np.arange(0.1,1.1,0.1)\n",
        "p8s = [binom.pmf(8,14,p) for p in ps]\n",
        "for i in range(10):\n",
        "  print(f'p({8}|p={ps[i]:.{3}}) = {p8s[i]:.{3}}')"
      ],
      "metadata": {
        "colab": {
          "base_uri": "https://localhost:8080/"
        },
        "id": "HEROzMykhZfN",
        "outputId": "273ecc30-c1f8-4eff-d34e-743a8f152c22"
      },
      "execution_count": 7,
      "outputs": [
        {
          "output_type": "stream",
          "name": "stdout",
          "text": [
            "p(8|p=0.1) = 1.6e-05\n",
            "p(8|p=0.2) = 0.00202\n",
            "p(8|p=0.3) = 0.0232\n",
            "p(8|p=0.4) = 0.0918\n",
            "p(8|p=0.5) = 0.183\n",
            "p(8|p=0.6) = 0.207\n",
            "p(8|p=0.7) = 0.126\n",
            "p(8|p=0.8) = 0.0322\n",
            "p(8|p=0.9) = 0.00129\n",
            "p(8|p=1.0) = 0.0\n"
          ]
        }
      ]
    },
    {
      "cell_type": "markdown",
      "source": [
        "p=0.6 is most probable"
      ],
      "metadata": {
        "id": "mc0QSJDckKeS"
      }
    },
    {
      "cell_type": "markdown",
      "metadata": {
        "id": "-INGaYFtM-Cp"
      },
      "source": [
        "## Exercise 3\n",
        "\n",
        "Not feeling convinced by your single experiment (good scientist!), you repeat it under identical conditions. This time you measure 5 quanta that were released. Your sample size has now doubled, to two measurements. You now want to take into account both measurements when you assess the likelihoods of different possible values of the underlying release probability. To do so, assume that the two measurements in this sample are independent of one another; that is, the value of each result had no bearing on the other. In this case, the total likelihood is simply the product of the likelihoods associated with each separate measurement. It is also typical to compute the logarithm of each likelihood and take their sum, which is often more convenient. What are the values of the total likelihood and total log-likelihood in this example, if we assume that the true release probability is 0.1?\n",
        "\n",
        "Of course, knowing those values of the likelihood and log-likelihood is not particularly useful until you can compare them to the values computed for other possible values for the release probability, so you can determine which value of release probability is most likely, given the data. Therefore, compute the full likelihood and log-likelihood functions using deciles of release probability between 0 and 1. What is the maximum value? Can you improve your estimate by computing the functions at a higher resolution? How does the estimate improve as you increase the sample size?"
      ]
    },
    {
      "cell_type": "code",
      "source": [
        "ps = np.arange(0.1,1.1,0.1)\n",
        "p5s_p8s = [binom.pmf([5,8],14,p) for p in ps]\n",
        "log_p5s_p8s = [binom.logpmf([5,8],14,p) for p in ps]\n",
        "Ls = np.prod(p5s_p8s,axis=1)\n",
        "logLs = np.sum(log_p5s_p8s,axis=1)\n",
        "for i in range(10):\n",
        "  print(f'L([5,8]|p={ps[i]:.{3}}) = {Ls[i]:.{3}}, logL([5,8]|p={ps[i]:.{3}}) = {logLs[i]:.{3}}')"
      ],
      "metadata": {
        "colab": {
          "base_uri": "https://localhost:8080/"
        },
        "id": "b1X5-2GxkdNn",
        "outputId": "5d63dd8a-336b-44a5-ac51-b8c5fa812813"
      },
      "execution_count": 8,
      "outputs": [
        {
          "output_type": "stream",
          "name": "stdout",
          "text": [
            "L([5,8]|p=0.1) = 1.24e-07, logL([5,8]|p=0.1) = -15.9\n",
            "L([5,8]|p=0.2) = 0.000173, logL([5,8]|p=0.2) = -8.66\n",
            "L([5,8]|p=0.3) = 0.00455, logL([5,8]|p=0.3) = -5.39\n",
            "L([5,8]|p=0.4) = 0.019, logL([5,8]|p=0.4) = -3.96\n",
            "L([5,8]|p=0.5) = 0.0224, logL([5,8]|p=0.5) = -3.8\n",
            "L([5,8]|p=0.6) = 0.00843, logL([5,8]|p=0.6) = -4.78\n",
            "L([5,8]|p=0.7) = 0.000836, logL([5,8]|p=0.7) = -7.09\n",
            "L([5,8]|p=0.8) = 1.08e-05, logL([5,8]|p=0.8) = -11.4\n",
            "L([5,8]|p=0.9) = 1.53e-09, logL([5,8]|p=0.9) = -20.3\n",
            "L([5,8]|p=1.0) = 0.0, logL([5,8]|p=1.0) = -inf\n"
          ]
        }
      ]
    },
    {
      "cell_type": "markdown",
      "source": [
        "The maximum likelihood/log-likelihood is acheived when p=0.5. If more p-values are tested, the estimate would certainly be improved. Increasing the sample size would however improve the estimate of the parameter."
      ],
      "metadata": {
        "id": "X4fHmwSdnqWB"
      }
    },
    {
      "cell_type": "markdown",
      "metadata": {
        "id": "GCN6aNp1N0nC"
      },
      "source": [
        "## Exercise 4\n",
        "\n",
        "You keep going and conduct 100 separate experiments and end up with these results:\n",
        "\n",
        "Measured releases\t| Count\n",
        "---------------- | -------\n",
        "0 | 0\n",
        "1 | 0\n",
        "2 | 3\n",
        "4 | 10\n",
        "5 | 19\n",
        "6 | 26\n",
        "7 | 16\n",
        "8 | 16\n",
        "9 | 5\n",
        "10 | 5\n",
        "11 | 0\n",
        "12 | 0\n",
        "13 | 0\n",
        "14 | 0\n",
        "\n",
        "What is the most likely value of *p* (which we typically refer to as $\\hat{p}$, which is pronounced as \"p-hat\" and represents the maximum-likelihood estimate of a parameter in the population given our sample with a resolution of 0.01? \n",
        "\n",
        "BONUS: Use a fitting procedure to find $\\hat{p}$."
      ]
    },
    {
      "cell_type": "markdown",
      "source": [
        "No counts are given for a release value of 3, so I will subsitute in 5."
      ],
      "metadata": {
        "id": "Rr9QAi0uscIa"
      }
    },
    {
      "cell_type": "code",
      "source": [
        "from scipy.optimize import curve_fit\n",
        "\n",
        "k = np.arange(15)\n",
        "counts = np.array([0,0,3,5,10,19,26,16,16,5,5,0,0,0,0])\n",
        "Ntrials = 105\n",
        "\n",
        "def binom_fxn(x, p):\n",
        "  return binom.pmf(x,14,p)\n",
        "\n",
        "params = curve_fit(binom_fxn,k,counts/Ntrials,0.5)\n",
        "phat = params[0][0]\n",
        "print(f'phat = {phat:.{3}}')\n",
        "plt.plot(k,counts/Ntrials)\n",
        "plt.plot(k,binom_fxn(k,phat))"
      ],
      "metadata": {
        "colab": {
          "base_uri": "https://localhost:8080/",
          "height": 300
        },
        "id": "ZYbQ0tVPqBP5",
        "outputId": "a2e4532c-4754-44c2-8627-360d7c62b874"
      },
      "execution_count": 9,
      "outputs": [
        {
          "output_type": "stream",
          "name": "stdout",
          "text": [
            "phat = 0.44\n"
          ]
        },
        {
          "output_type": "execute_result",
          "data": {
            "text/plain": [
              "[<matplotlib.lines.Line2D at 0x7ffb2d47fd90>]"
            ]
          },
          "metadata": {},
          "execution_count": 9
        },
        {
          "output_type": "display_data",
          "data": {
            "text/plain": [
              "<Figure size 432x288 with 1 Axes>"
            ],
            "image/png": "[encoded data removed]"
          },
          "metadata": {
            "needs_background": "light"
          }
        }
      ]
    },
    {
      "cell_type": "markdown",
      "metadata": {
        "id": "9BZG29IBSo6E"
      },
      "source": [
        "## Exercise 5\n",
        "\n",
        "Let's say that you have run an exhaustive set of experiments on this synapse and have determined that the true release probability is 0.3 (within some very small tolerance). Now you want to test whether changing the temperature of the preparation affects the release probability. So you change the temperature, perform the experiment, and measure 7 quantal events for the same 14 available quanta. Compute $\\hat{p}$. Standard statistical inference now asks the question, what is the probability that you would have obtained that measurement given a Null Hypothesis of no effect? In this case, no effect corresponds to an unchanged value of the true release probability (i.e., its value remained at 0.3 even with the temperature change). What is the probability that you would have gotten that measurement if your Null Hypothesis were true? Can you conclude that temperature had an effect?"
      ]
    },
    {
      "cell_type": "code",
      "source": [
        "#MLE\n",
        "p_test = np.arange(0,1,0.001)\n",
        "logL = [binom.logpmf(7,14,p) for p in p_test]\n",
        "phat = p_test[logL == np.max(logL)][0]\n",
        "print(f'The MLE of p equals {phat:.{3}}')\n",
        "\n",
        "#p(null)\n",
        "pnull = binom.pmf(7,14,0.3)\n",
        "print(f'p(null) = {pnull:.{3}}')"
      ],
      "metadata": {
        "colab": {
          "base_uri": "https://localhost:8080/"
        },
        "id": "kzStOWlgoa6-",
        "outputId": "3a3af28c-855c-4e92-efa4-0eee8749f0c5"
      },
      "execution_count": 10,
      "outputs": [
        {
          "output_type": "stream",
          "name": "stdout",
          "text": [
            "The MLE of p equals 0.5\n",
            "p(null) = 0.0618\n"
          ]
        }
      ]
    },
    {
      "cell_type": "markdown",
      "source": [
        "Based on a significance threshold of p=0.05, you cannot reject the hypothesis that temperature had no effect."
      ],
      "metadata": {
        "id": "35-smaJAATMs"
      }
    },
    {
      "cell_type": "markdown",
      "metadata": {
        "id": "UFYyaeLwTb35"
      },
      "source": [
        "## Bonus Exercise\n",
        "\n",
        "These data are reproduced from Tables 1 and 2 of Johnson and Wernig. Note that *nx* indicates the number of trials (\"release events\") with *x* measured events. Each row is a separate experiment (don't worry about the ordering, which here is reproduced as it is in the paper).\n",
        "\n",
        "Temp (°C)\t| n0\t| n1\t| n2\t| n3\t| n4\t| n5+\n",
        "--- | --| --- | --- | --- | --- | ---\n",
        "4.0\t| 615\t| 206\t| 33\t| 2\t| 0\t| 0\n",
        "3.5\t| 604\t| 339\t| 94\t| 11\t| 2\t| 0\n",
        "0.0 | \t332\t| 126\t| 21\t| 1\t| 0\t| 0\n",
        "2.0\t| 573\t| 443\t| 154\t| 28\t| 2\t| 0\n",
        "6.5\t| 172\t| 176\t| 89\t| 12\t| 1\t| 0\n",
        "3.0\t| 80\t| 224\t| 200\t| 32\t| 4\t| 0\n",
        "\n",
        "You can probably already see that some experiments resulted in primarily zero or one events per trial (e.g., the top experiment), whereas others tended to have more events (e.g., the bottom experiment).\n",
        "\n",
        "Do the quantal event numbers follow a binomial distribution? If so, then that would lend support to the idea that the events are generated by a process that can be characterized in terms of the number of available quanta and the average probability of release of each quantum.\n",
        "\n",
        "Provide a qualitative answer to this question by comparing the empirical distributions (see the data table, above) to the predicted binomial distribution. To get the predicted distribution (i.e., the probabilities associated with each value of *k* from Eq. 1, given the release probability p and the number of available quanta *n*), you need to determine both *k* and *n* from the empirical measurements. To determine *p*, use Eq. 5 in the paper: $p=1-\\frac{\\sigma ^{2}}{m}$\n",
        "\n",
        "where $\\sigma ^{2}$ is the variance and *m* is the mean of the trial-by-trial counts that can be determined from the data. To determine *n*, compute *m*/*p* (because *m* = *n* x *p*).\n",
        "\n",
        "As an added bonus, also include the predicted Poisson distribution, which can be computed using only the mean number of events (*m*, described above).\n",
        "\n"
      ]
    },
    {
      "cell_type": "markdown",
      "metadata": {
        "id": "TxctXRrXQqv4"
      },
      "source": [
        "# Additional Resources\n",
        "\n",
        "Working with the binomial distribution in [Matlab](https://www.mathworks.com/help/stats/binomial-distribution.html), [R](https://www.rdocumentation.org/packages/stats/versions/3.3/topics/Binomial), and [Python](https://docs.scipy.org/doc/scipy/reference/generated/scipy.stats.binom.html)."
      ]
    },
    {
      "cell_type": "markdown",
      "metadata": {
        "id": "tteEm2Qlgbb3"
      },
      "source": [
        "# Credits\n",
        "\n",
        "Copyright 2021 by Joshua I. Gold, University of Pennsylvania"
      ]
    }
  ],
  "metadata": {
    "colab": {
      "collapsed_sections": [
        "pKIiY6p3GRFq",
        "bkVu6eGKIIiQ",
        "u3yXPCmMH2CH",
        "NPyYR5dgJ4Q9",
        "VveIEEiyLUSk",
        "eG7Kvl5pL4jf",
        "-INGaYFtM-Cp",
        "GCN6aNp1N0nC",
        "9BZG29IBSo6E",
        "UFYyaeLwTb35"
      ],
      "name": "Biomial Distribution",
      "provenance": [],
      "include_colab_link": true
    },
    "kernelspec": {
      "display_name": "Python 3",
      "name": "python3"
    },
    "language_info": {
      "name": "python"
    }
  },
  "nbformat": 4,
  "nbformat_minor": 0
}
